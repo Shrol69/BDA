{
  "nbformat": 4,
  "nbformat_minor": 0,
  "metadata": {
    "colab": {
      "provenance": []
    },
    "kernelspec": {
      "name": "python3",
      "display_name": "Python 3"
    },
    "language_info": {
      "name": "python"
    }
  },
  "cells": [
    {
      "cell_type": "markdown",
      "source": [
        "# **Lab 3: MapReduce Implementation in PySpark**\n",
        "Name : Madhavi Chitnis   \n",
        "PRN: 20220802070"
      ],
      "metadata": {
        "id": "sQ2DZU8Ti3Vv"
      }
    },
    {
      "cell_type": "code",
      "source": [
        "from google.colab import files\n",
        "uploaded = files.upload()\n"
      ],
      "metadata": {
        "colab": {
          "base_uri": "https://localhost:8080/",
          "height": 73
        },
        "id": "Ws2tx4Djqxaw",
        "outputId": "eba81296-770f-4a2b-d0d0-d1032db64246"
      },
      "execution_count": null,
      "outputs": [
        {
          "output_type": "display_data",
          "data": {
            "text/plain": [
              "<IPython.core.display.HTML object>"
            ],
            "text/html": [
              "\n",
              "     <input type=\"file\" id=\"files-0ad66ab9-588f-45c9-a207-4761f3e502c4\" name=\"files[]\" multiple disabled\n",
              "        style=\"border:none\" />\n",
              "     <output id=\"result-0ad66ab9-588f-45c9-a207-4761f3e502c4\">\n",
              "      Upload widget is only available when the cell has been executed in the\n",
              "      current browser session. Please rerun this cell to enable.\n",
              "      </output>\n",
              "      <script>// Copyright 2017 Google LLC\n",
              "//\n",
              "// Licensed under the Apache License, Version 2.0 (the \"License\");\n",
              "// you may not use this file except in compliance with the License.\n",
              "// You may obtain a copy of the License at\n",
              "//\n",
              "//      http://www.apache.org/licenses/LICENSE-2.0\n",
              "//\n",
              "// Unless required by applicable law or agreed to in writing, software\n",
              "// distributed under the License is distributed on an \"AS IS\" BASIS,\n",
              "// WITHOUT WARRANTIES OR CONDITIONS OF ANY KIND, either express or implied.\n",
              "// See the License for the specific language governing permissions and\n",
              "// limitations under the License.\n",
              "\n",
              "/**\n",
              " * @fileoverview Helpers for google.colab Python module.\n",
              " */\n",
              "(function(scope) {\n",
              "function span(text, styleAttributes = {}) {\n",
              "  const element = document.createElement('span');\n",
              "  element.textContent = text;\n",
              "  for (const key of Object.keys(styleAttributes)) {\n",
              "    element.style[key] = styleAttributes[key];\n",
              "  }\n",
              "  return element;\n",
              "}\n",
              "\n",
              "// Max number of bytes which will be uploaded at a time.\n",
              "const MAX_PAYLOAD_SIZE = 100 * 1024;\n",
              "\n",
              "function _uploadFiles(inputId, outputId) {\n",
              "  const steps = uploadFilesStep(inputId, outputId);\n",
              "  const outputElement = document.getElementById(outputId);\n",
              "  // Cache steps on the outputElement to make it available for the next call\n",
              "  // to uploadFilesContinue from Python.\n",
              "  outputElement.steps = steps;\n",
              "\n",
              "  return _uploadFilesContinue(outputId);\n",
              "}\n",
              "\n",
              "// This is roughly an async generator (not supported in the browser yet),\n",
              "// where there are multiple asynchronous steps and the Python side is going\n",
              "// to poll for completion of each step.\n",
              "// This uses a Promise to block the python side on completion of each step,\n",
              "// then passes the result of the previous step as the input to the next step.\n",
              "function _uploadFilesContinue(outputId) {\n",
              "  const outputElement = document.getElementById(outputId);\n",
              "  const steps = outputElement.steps;\n",
              "\n",
              "  const next = steps.next(outputElement.lastPromiseValue);\n",
              "  return Promise.resolve(next.value.promise).then((value) => {\n",
              "    // Cache the last promise value to make it available to the next\n",
              "    // step of the generator.\n",
              "    outputElement.lastPromiseValue = value;\n",
              "    return next.value.response;\n",
              "  });\n",
              "}\n",
              "\n",
              "/**\n",
              " * Generator function which is called between each async step of the upload\n",
              " * process.\n",
              " * @param {string} inputId Element ID of the input file picker element.\n",
              " * @param {string} outputId Element ID of the output display.\n",
              " * @return {!Iterable<!Object>} Iterable of next steps.\n",
              " */\n",
              "function* uploadFilesStep(inputId, outputId) {\n",
              "  const inputElement = document.getElementById(inputId);\n",
              "  inputElement.disabled = false;\n",
              "\n",
              "  const outputElement = document.getElementById(outputId);\n",
              "  outputElement.innerHTML = '';\n",
              "\n",
              "  const pickedPromise = new Promise((resolve) => {\n",
              "    inputElement.addEventListener('change', (e) => {\n",
              "      resolve(e.target.files);\n",
              "    });\n",
              "  });\n",
              "\n",
              "  const cancel = document.createElement('button');\n",
              "  inputElement.parentElement.appendChild(cancel);\n",
              "  cancel.textContent = 'Cancel upload';\n",
              "  const cancelPromise = new Promise((resolve) => {\n",
              "    cancel.onclick = () => {\n",
              "      resolve(null);\n",
              "    };\n",
              "  });\n",
              "\n",
              "  // Wait for the user to pick the files.\n",
              "  const files = yield {\n",
              "    promise: Promise.race([pickedPromise, cancelPromise]),\n",
              "    response: {\n",
              "      action: 'starting',\n",
              "    }\n",
              "  };\n",
              "\n",
              "  cancel.remove();\n",
              "\n",
              "  // Disable the input element since further picks are not allowed.\n",
              "  inputElement.disabled = true;\n",
              "\n",
              "  if (!files) {\n",
              "    return {\n",
              "      response: {\n",
              "        action: 'complete',\n",
              "      }\n",
              "    };\n",
              "  }\n",
              "\n",
              "  for (const file of files) {\n",
              "    const li = document.createElement('li');\n",
              "    li.append(span(file.name, {fontWeight: 'bold'}));\n",
              "    li.append(span(\n",
              "        `(${file.type || 'n/a'}) - ${file.size} bytes, ` +\n",
              "        `last modified: ${\n",
              "            file.lastModifiedDate ? file.lastModifiedDate.toLocaleDateString() :\n",
              "                                    'n/a'} - `));\n",
              "    const percent = span('0% done');\n",
              "    li.appendChild(percent);\n",
              "\n",
              "    outputElement.appendChild(li);\n",
              "\n",
              "    const fileDataPromise = new Promise((resolve) => {\n",
              "      const reader = new FileReader();\n",
              "      reader.onload = (e) => {\n",
              "        resolve(e.target.result);\n",
              "      };\n",
              "      reader.readAsArrayBuffer(file);\n",
              "    });\n",
              "    // Wait for the data to be ready.\n",
              "    let fileData = yield {\n",
              "      promise: fileDataPromise,\n",
              "      response: {\n",
              "        action: 'continue',\n",
              "      }\n",
              "    };\n",
              "\n",
              "    // Use a chunked sending to avoid message size limits. See b/62115660.\n",
              "    let position = 0;\n",
              "    do {\n",
              "      const length = Math.min(fileData.byteLength - position, MAX_PAYLOAD_SIZE);\n",
              "      const chunk = new Uint8Array(fileData, position, length);\n",
              "      position += length;\n",
              "\n",
              "      const base64 = btoa(String.fromCharCode.apply(null, chunk));\n",
              "      yield {\n",
              "        response: {\n",
              "          action: 'append',\n",
              "          file: file.name,\n",
              "          data: base64,\n",
              "        },\n",
              "      };\n",
              "\n",
              "      let percentDone = fileData.byteLength === 0 ?\n",
              "          100 :\n",
              "          Math.round((position / fileData.byteLength) * 100);\n",
              "      percent.textContent = `${percentDone}% done`;\n",
              "\n",
              "    } while (position < fileData.byteLength);\n",
              "  }\n",
              "\n",
              "  // All done.\n",
              "  yield {\n",
              "    response: {\n",
              "      action: 'complete',\n",
              "    }\n",
              "  };\n",
              "}\n",
              "\n",
              "scope.google = scope.google || {};\n",
              "scope.google.colab = scope.google.colab || {};\n",
              "scope.google.colab._files = {\n",
              "  _uploadFiles,\n",
              "  _uploadFilesContinue,\n",
              "};\n",
              "})(self);\n",
              "</script> "
            ]
          },
          "metadata": {}
        },
        {
          "output_type": "stream",
          "name": "stdout",
          "text": [
            "Saving Amazon_Responded_Oct05.csv to Amazon_Responded_Oct05.csv\n"
          ]
        }
      ]
    },
    {
      "cell_type": "markdown",
      "source": [
        "### **Step 1: Importing necessary Libraries**"
      ],
      "metadata": {
        "id": "7qdhWv_hKVmI"
      }
    },
    {
      "cell_type": "code",
      "source": [
        "from pyspark.sql import SparkSession\n"
      ],
      "metadata": {
        "id": "qBIIu4pMps4r"
      },
      "execution_count": null,
      "outputs": []
    },
    {
      "cell_type": "markdown",
      "source": [
        "### **Step 2: Creating a Spark Session**"
      ],
      "metadata": {
        "id": "ryi02iyBKcnW"
      }
    },
    {
      "cell_type": "markdown",
      "source": [
        "A **Spark session** is the entry point to work with Spark in PySpark. We create it with the name **\"BDA Lab 3\"**, and **getOrCreate()** ensures that we either create a new session or reuse an existing one."
      ],
      "metadata": {
        "id": "ecFe4Bq46B5a"
      }
    },
    {
      "cell_type": "code",
      "source": [
        "# Create Spark session\n",
        "spark = SparkSession.builder \\\n",
        "    .appName(\"BDA Lab 3\") \\\n",
        "    .getOrCreate()\n",
        "\n"
      ],
      "metadata": {
        "id": "ckCPS8Otq3PB"
      },
      "execution_count": null,
      "outputs": []
    },
    {
      "cell_type": "markdown",
      "source": [
        "### **Step 3: Loading and Inspecting the dataset**"
      ],
      "metadata": {
        "id": "kMs5LTSCKiPG"
      }
    },
    {
      "cell_type": "markdown",
      "source": [
        "We load/read the csv file into a dataframe using **spark.read.csv**"
      ],
      "metadata": {
        "id": "9Pwkjeod5nYz"
      }
    },
    {
      "cell_type": "code",
      "source": [
        "\n",
        "# Load the CSV file into a DataFrame\n",
        "df = spark.read.csv(\"Amazon_Responded_Oct05.csv\", header=True, inferSchema=True)\n"
      ],
      "metadata": {
        "id": "sBZWOozN2Pw5"
      },
      "execution_count": null,
      "outputs": []
    },
    {
      "cell_type": "code",
      "source": [
        "df.printSchema()"
      ],
      "metadata": {
        "colab": {
          "base_uri": "https://localhost:8080/"
        },
        "id": "b1fsovFqreoL",
        "outputId": "ec75517d-5fee-40fc-ac08-f04ef3d7f097"
      },
      "execution_count": null,
      "outputs": [
        {
          "output_type": "stream",
          "name": "stdout",
          "text": [
            "root\n",
            " |-- id_str: string (nullable = true)\n",
            " |-- tweet_created_at: string (nullable = true)\n",
            " |-- user_screen_name: string (nullable = true)\n",
            " |-- user_id_str: string (nullable = true)\n",
            " |-- user_statuses_count: string (nullable = true)\n",
            " |-- user_favourites_count: string (nullable = true)\n",
            " |-- user_protected: string (nullable = true)\n",
            " |-- user_listed_count: string (nullable = true)\n",
            " |-- user_following: string (nullable = true)\n",
            " |-- user_description: string (nullable = true)\n",
            " |-- user_location: string (nullable = true)\n",
            " |-- user_verified: string (nullable = true)\n",
            " |-- user_followers_count: string (nullable = true)\n",
            " |-- user_friends_count: string (nullable = true)\n",
            " |-- user_created_at: string (nullable = true)\n",
            " |-- tweet_language: string (nullable = true)\n",
            " |-- text_: string (nullable = true)\n",
            " |-- favorite_count: string (nullable = true)\n",
            " |-- favorited: string (nullable = true)\n",
            " |-- in_reply_to_screen_name: string (nullable = true)\n",
            " |-- in_reply_to_status_id_str: string (nullable = true)\n",
            " |-- in_reply_to_user_id_str: string (nullable = true)\n",
            " |-- retweet_count: string (nullable = true)\n",
            " |-- retweeted: string (nullable = true)\n",
            " |-- text: string (nullable = true)\n",
            "\n"
          ]
        }
      ]
    },
    {
      "cell_type": "code",
      "source": [
        "df.describe().show()"
      ],
      "metadata": {
        "colab": {
          "base_uri": "https://localhost:8080/"
        },
        "id": "_woXDngEr9dD",
        "outputId": "8942ae30-afdf-4e91-ed17-776b5e7771dd"
      },
      "execution_count": null,
      "outputs": [
        {
          "output_type": "stream",
          "name": "stdout",
          "text": [
            "+-------+--------------------+------------------+--------------------+--------------------+--------------------+---------------------+--------------------+--------------------+--------------------+--------------------+--------------------+--------------------+--------------------+--------------------+--------------------+--------------------+--------------------+--------------------+--------------------+-----------------------+-------------------------+-----------------------+--------------------+--------------------+--------------------+\n",
            "|summary|              id_str|  tweet_created_at|    user_screen_name|         user_id_str| user_statuses_count|user_favourites_count|      user_protected|   user_listed_count|      user_following|    user_description|       user_location|       user_verified|user_followers_count|  user_friends_count|     user_created_at|      tweet_language|               text_|      favorite_count|           favorited|in_reply_to_screen_name|in_reply_to_status_id_str|in_reply_to_user_id_str|       retweet_count|           retweeted|                text|\n",
            "+-------+--------------------+------------------+--------------------+--------------------+--------------------+---------------------+--------------------+--------------------+--------------------+--------------------+--------------------+--------------------+--------------------+--------------------+--------------------+--------------------+--------------------+--------------------+--------------------+-----------------------+-------------------------+-----------------------+--------------------+--------------------+--------------------+\n",
            "|  count|              413236|            398519|              398866|              397274|              394880|               396845|              398409|              398568|              393022|              343856|              155196|              372880|              375014|              376621|              376758|              368594|              366043|              359216|              358952|                 333018|                   284003|                 332289|              358313|              358615|              108184|\n",
            "|   mean|6.899729433839285E10| 60.54358138155944| 1.624201402537723E8|3.502099977192092...| 6.69715358310424E15| 1.092051599483834...|7.636763470974545E15|2.214541617094752...|7.079177424672739E13|8.786821174934699E26|1.711493004239064...|8.072768101162809...|1.651103514852685E15|5.190662069812305...|5.669684651452982...|6.516148719384677...|   4.202695134766E16|2.089573576261012E13|4.807033119408701E15|   3.033848662990389...|     8.396965034821927...|   4.204910339011756E16|6.131145274121334E14|3.090120284780297...|2.640994838997860...|\n",
            "| stddev|2.510120111744860...|2878.6125160821052|3.7371283429673643E9|1.621313492356076...|7.491948218123686...| 2.993648093648128...|7.930066163824932...|4.314345946983127...|7.177601603501875E15|3.109094713946945E28|4.338017086239951...|1.649290178728533...|3.709253711518845...|2.090762293631721...|2.106664191625532...|2.243733908561012...|1.810883540740121...|4.165583830847977...|6.467529395926244...|   1.597493692611556...|     3.268681417990911...|   1.771042252967429...|2.264622301614096...|1.584434041302863...|1.478620205563503...|\n",
            "|    min|                 ...|                  |                    |                    |                    |         #Blogger...\"|             #Comics|           #StarWars|  bakwas Photogra...|  it just says \"\"...|                    | \"\"Chase of Choic...| #fanciesTrentSeven\"|                  61|                79}\"| vitriolic Gangulian| wannabe politici...|           \"\"if\"\"..\"|  Well try again ...|    \"\"De… https://t....|      and Phone or Cha...|    and the two men ...|                   0|\"Hindi ebooks, bo...|\"\"\"#Amazon failed...|\n",
            "|    max|            🧚🏼‍♀️\"|      🗺🇬🇧🇪🇺🌍|                  😂|         कांग्रेसिये|ï¿½T: 36.997628,-...|             kolkata |    trigger warning |🤔HEADS UP! If yo...|😦 And this is wh...|🧡Wife❤️Mom💛Auth...|                  🥃|             vmlinuz|          thecraigfm|         vinod1979do|         madnovelist|😍😍 @amazonBR ju...|🤰🏻 + @amazonpri...|you are playing w...|           zebpalmer|              zzwhitejd|                   zuffle|              zx7miller|           taco_1966|            amazonIN|🤔🤔 When is tjis...|\n",
            "+-------+--------------------+------------------+--------------------+--------------------+--------------------+---------------------+--------------------+--------------------+--------------------+--------------------+--------------------+--------------------+--------------------+--------------------+--------------------+--------------------+--------------------+--------------------+--------------------+-----------------------+-------------------------+-----------------------+--------------------+--------------------+--------------------+\n",
            "\n"
          ]
        }
      ]
    },
    {
      "cell_type": "code",
      "source": [
        "df.show(5)"
      ],
      "metadata": {
        "colab": {
          "base_uri": "https://localhost:8080/"
        },
        "id": "hk7uvTDhp23a",
        "outputId": "73faa359-97dd-47f0-dc5d-6d72ee45605a"
      },
      "execution_count": null,
      "outputs": [
        {
          "output_type": "stream",
          "name": "stdout",
          "text": [
            "+--------------------+--------------------+----------------+-----------+-------------------+---------------------+--------------+-----------------+--------------+--------------------+-------------+-------------+--------------------+------------------+--------------------+--------------+--------------------+--------------+---------+-----------------------+-------------------------+-----------------------+-------------+---------+--------------------+\n",
            "|              id_str|    tweet_created_at|user_screen_name|user_id_str|user_statuses_count|user_favourites_count|user_protected|user_listed_count|user_following|    user_description|user_location|user_verified|user_followers_count|user_friends_count|     user_created_at|tweet_language|               text_|favorite_count|favorited|in_reply_to_screen_name|in_reply_to_status_id_str|in_reply_to_user_id_str|retweet_count|retweeted|                text|\n",
            "+--------------------+--------------------+----------------+-----------+-------------------+---------------------+--------------+-----------------+--------------+--------------------+-------------+-------------+--------------------+------------------+--------------------+--------------+--------------------+--------------+---------+-----------------------+-------------------------+-----------------------+-------------+---------+--------------------+\n",
            "|'793270689780203520'|Tue Nov 01 01:57:...|     SeanEPanjab|  143515471|              51287|                 4079|         False|               74|         False|Content marketer;...|   غریب الوطن|        False|                1503|               850|Thu May 13 17:43:...|            en|@AmazonHelp Can y...|             0|    False|             AmazonHelp|                     NULL|               85741735|            0|    False|                NULL|\n",
            "|'793281386912354304'|Tue Nov 01 02:39:...|      AmazonHelp|   85741735|            2225450|                11366|         False|              796|         False|We answer Amazon ...|         NULL|         True|              149569|                53|Wed Oct 28 04:17:...|            en|@SeanEPanjab I'm ...|             0|    False|            SeanEPanjab|     7.932706897802035...|              143515471|            0|    False|                NULL|\n",
            "|'793501578766319616'|Tue Nov 01 17:14:...|     SeanEPanjab|  143515471|              51287|                 4079|         False|               74|         False|Content marketer;...|   غریب الوطن|        False|                1503|               850|Thu May 13 17:43:...|            en|@AmazonHelp It wa...|             0|    False|             AmazonHelp|     7.932813869123543...|               85741735|            0|    False|@AmazonHelp It wa...|\n",
            "|'793501657346682880'|Tue Nov 01 17:15:...|     SeanEPanjab|  143515471|              51287|                 4079|         False|               74|         False|Content marketer;...|   غریب الوطن|        False|                1503|               850|Thu May 13 17:43:...|            en|@AmazonHelp I am ...|             0|    False|             AmazonHelp|     7.932813869123543...|               85741735|            0|    False|                NULL|\n",
            "|'793502854459879424'|Tue Nov 01 17:19:...|      AmazonHelp|   85741735|            2225450|                11366|         False|              796|         False|We answer Amazon ...|         NULL|         True|              149569|                53|Wed Oct 28 04:17:...|            en|@SeanEPanjab Plea...|             0|    False|            SeanEPanjab|     7.935015787663196...|              143515471|            0|    False|@SeanEPanjab Plea...|\n",
            "+--------------------+--------------------+----------------+-----------+-------------------+---------------------+--------------+-----------------+--------------+--------------------+-------------+-------------+--------------------+------------------+--------------------+--------------+--------------------+--------------+---------+-----------------------+-------------------------+-----------------------+-------------+---------+--------------------+\n",
            "only showing top 5 rows\n",
            "\n"
          ]
        }
      ]
    },
    {
      "cell_type": "code",
      "source": [
        "df.count()   #no.of rows"
      ],
      "metadata": {
        "colab": {
          "base_uri": "https://localhost:8080/"
        },
        "id": "Z3ci-08StLc6",
        "outputId": "a7fe6f18-0f3a-4c6f-e1db-3d4de3700ca2"
      },
      "execution_count": null,
      "outputs": [
        {
          "output_type": "execute_result",
          "data": {
            "text/plain": [
              "413247"
            ]
          },
          "metadata": {},
          "execution_count": 17
        }
      ]
    },
    {
      "cell_type": "code",
      "source": [
        "len(df.columns) #no. of columns"
      ],
      "metadata": {
        "colab": {
          "base_uri": "https://localhost:8080/"
        },
        "id": "INuq9_tatP4q",
        "outputId": "501e0e43-b4b7-4a24-dcc5-1b2b4ae43864"
      },
      "execution_count": null,
      "outputs": [
        {
          "output_type": "execute_result",
          "data": {
            "text/plain": [
              "25"
            ]
          },
          "metadata": {},
          "execution_count": 19
        }
      ]
    },
    {
      "cell_type": "markdown",
      "source": [
        "### **Step 4: Extracting the relevant columns**"
      ],
      "metadata": {
        "id": "Ms7JRwx1q-4w"
      }
    },
    {
      "cell_type": "markdown",
      "source": [
        "We extract the relevant columns - **user_id_str**, **user_followers_count**,**text_**"
      ],
      "metadata": {
        "id": "TvM2oeG37LGE"
      }
    },
    {
      "cell_type": "code",
      "source": [
        "# Extracting the relevant columns\n",
        "df_selected = df.select(\"user_id_str\", \"user_followers_count\", \"text_\")\n",
        "df_selected.show(5)\n"
      ],
      "metadata": {
        "colab": {
          "base_uri": "https://localhost:8080/"
        },
        "id": "KlrNeKA_p-XL",
        "outputId": "af3bd19e-7e29-47d8-f193-c2aea78f5a11"
      },
      "execution_count": null,
      "outputs": [
        {
          "output_type": "stream",
          "name": "stdout",
          "text": [
            "+-----------+--------------------+--------------------+\n",
            "|user_id_str|user_followers_count|               text_|\n",
            "+-----------+--------------------+--------------------+\n",
            "|  143515471|                1503|@AmazonHelp Can y...|\n",
            "|   85741735|              149569|@SeanEPanjab I'm ...|\n",
            "|  143515471|                1503|@AmazonHelp It wa...|\n",
            "|  143515471|                1503|@AmazonHelp I am ...|\n",
            "|   85741735|              149569|@SeanEPanjab Plea...|\n",
            "+-----------+--------------------+--------------------+\n",
            "only showing top 5 rows\n",
            "\n"
          ]
        }
      ]
    },
    {
      "cell_type": "code",
      "source": [
        "from pyspark.sql.functions import col, max\n",
        "\n",
        "# Group by user_id_str and get the max number of followers for each user\n",
        "df_user_max_followers = df_selected.groupBy(\"user_id_str\").agg(\n",
        "    max(\"user_followers_count\").alias(\"max_followers\")\n",
        ")\n",
        "\n",
        "df_user_max_followers.show(5)\n"
      ],
      "metadata": {
        "colab": {
          "base_uri": "https://localhost:8080/"
        },
        "id": "5kLkm8UXra3z",
        "outputId": "fae74a14-95fa-47cb-d0bd-235c03cc456a"
      },
      "execution_count": null,
      "outputs": [
        {
          "output_type": "stream",
          "name": "stdout",
          "text": [
            "+----------------+--------------------+\n",
            "|     user_id_str|       max_followers|\n",
            "+----------------+--------------------+\n",
            "|            NULL|          sharpewits|\n",
            "|                |          AmazonHelp|\n",
            "|      #GalaxyS9 |                   0|\n",
            "|    #Gaymarriage|@AmazonHelp how d...|\n",
            "| #NintendoSwitch|                1086|\n",
            "+----------------+--------------------+\n",
            "only showing top 5 rows\n",
            "\n"
          ]
        }
      ]
    },
    {
      "cell_type": "markdown",
      "source": [
        "**Since some of the values in the above column \"max_followers\" are string, we need to preprocess the \"user_followers_count\" column first.**"
      ],
      "metadata": {
        "id": "18qrkHyiwP-i"
      }
    },
    {
      "cell_type": "markdown",
      "source": [
        "**First we identify and remove invalid values using the filter function\n",
        "cast(\"string\"): This ensures the column is treated as a string for pattern matching.**\n",
        "\n",
        "**rlike(\"^[0-9]+$\"):The expression  matches strings that are composed entirely of digits (i.e., numeric values).**\n",
        "\n",
        "**Rows with any non-numeric values will be excluded from df_clean.**"
      ],
      "metadata": {
        "id": "LcoRjS1EsFCC"
      }
    },
    {
      "cell_type": "code",
      "source": [
        "# Filter out rows where 'user_followers_count' is not a valid number (non-numeric)\n",
        "df_clean = df_selected.filter(col(\"user_followers_count\").cast(\"string\").rlike(\"^[0-9]+$\"))\n",
        "\n",
        "\n"
      ],
      "metadata": {
        "id": "tQRHXAj1uYzD"
      },
      "execution_count": null,
      "outputs": []
    },
    {
      "cell_type": "code",
      "source": [
        "df_clean.show(5)"
      ],
      "metadata": {
        "colab": {
          "base_uri": "https://localhost:8080/"
        },
        "id": "0ubLc_4uxelb",
        "outputId": "1974ce48-fb1e-43a9-e7fa-7170d30b49c6"
      },
      "execution_count": null,
      "outputs": [
        {
          "output_type": "stream",
          "name": "stdout",
          "text": [
            "+-----------+--------------------+--------------------+\n",
            "|user_id_str|user_followers_count|               text_|\n",
            "+-----------+--------------------+--------------------+\n",
            "|  143515471|                1503|@AmazonHelp Can y...|\n",
            "|   85741735|              149569|@SeanEPanjab I'm ...|\n",
            "|  143515471|                1503|@AmazonHelp It wa...|\n",
            "|  143515471|                1503|@AmazonHelp I am ...|\n",
            "|   85741735|              149569|@SeanEPanjab Plea...|\n",
            "+-----------+--------------------+--------------------+\n",
            "only showing top 5 rows\n",
            "\n"
          ]
        }
      ]
    },
    {
      "cell_type": "code",
      "source": [
        "# Group by user_id_str and get the max number of followers for each user\n",
        "df_user_max_followers = df_clean.groupBy(\"user_id_str\").agg(\n",
        "    max(\"user_followers_count\").alias(\"max_followers\")\n",
        ")\n",
        "\n",
        "df_user_max_followers.show(5)"
      ],
      "metadata": {
        "colab": {
          "base_uri": "https://localhost:8080/"
        },
        "id": "feX8Bv8px-Pr",
        "outputId": "ad14489f-b2c5-472c-ce9f-656f0525c32b"
      },
      "execution_count": null,
      "outputs": [
        {
          "output_type": "stream",
          "name": "stdout",
          "text": [
            "+------------------+-------------+\n",
            "|       user_id_str|max_followers|\n",
            "+------------------+-------------+\n",
            "|        #GalaxyS9 |            0|\n",
            "|   #NintendoSwitch|         1086|\n",
            "|            #bikes|            0|\n",
            "|            #manga|            0|\n",
            "| (distance)ledelse|            0|\n",
            "+------------------+-------------+\n",
            "only showing top 5 rows\n",
            "\n"
          ]
        }
      ]
    },
    {
      "cell_type": "markdown",
      "source": [
        "**Here we count the number of tweets per user**"
      ],
      "metadata": {
        "id": "X38mrrNL8bOC"
      }
    },
    {
      "cell_type": "code",
      "source": [
        "# Count the number of tweets per user\n",
        "df_tweets_per_user = df_selected.groupBy(\"user_id_str\").count()\n",
        "\n",
        "# Show the first few rows of the result\n",
        "df_tweets_per_user.show(5)\n"
      ],
      "metadata": {
        "colab": {
          "base_uri": "https://localhost:8080/"
        },
        "id": "HTXEA3j58TgC",
        "outputId": "7ad9f7de-fc0e-4f43-e239-6b617428cb74"
      },
      "execution_count": null,
      "outputs": [
        {
          "output_type": "stream",
          "name": "stdout",
          "text": [
            "+-----------+-----+\n",
            "|user_id_str|count|\n",
            "+-----------+-----+\n",
            "| 3196213653|    2|\n",
            "| 1210875679|    4|\n",
            "|  163148814|    4|\n",
            "|  234641258|    2|\n",
            "|   60760606|    6|\n",
            "+-----------+-----+\n",
            "only showing top 5 rows\n",
            "\n"
          ]
        }
      ]
    },
    {
      "cell_type": "markdown",
      "source": [
        "## **Task 1: Find out popular users whose followers are more than 5000**"
      ],
      "metadata": {
        "id": "Itm6Qwl4txvt"
      }
    },
    {
      "cell_type": "markdown",
      "source": [
        "**Now we create a filter to find popular users who have more than 5000 followers**"
      ],
      "metadata": {
        "id": "yfMGSBl2zPJj"
      }
    },
    {
      "cell_type": "code",
      "source": [
        "df_popular_users = df_user_max_followers.filter(col(\"max_followers\") > 5000)\n",
        "df_popular_users.show(5)\n"
      ],
      "metadata": {
        "colab": {
          "base_uri": "https://localhost:8080/"
        },
        "id": "Izu6V1K_yq4r",
        "outputId": "a4b8f14c-531e-4af9-f582-dab94d2b1860"
      },
      "execution_count": null,
      "outputs": [
        {
          "output_type": "stream",
          "name": "stdout",
          "text": [
            "+-----------+-------------+\n",
            "|user_id_str|max_followers|\n",
            "+-----------+-------------+\n",
            "|          4|     20793816|\n",
            "|          1|     85741735|\n",
            "|         10|     85741735|\n",
            "|        100|     85741735|\n",
            "| 1000295179|        70991|\n",
            "+-----------+-------------+\n",
            "only showing top 5 rows\n",
            "\n"
          ]
        }
      ]
    },
    {
      "cell_type": "markdown",
      "source": [
        "### **We follow the following steps to count words frequency**"
      ],
      "metadata": {
        "id": "jlNIr_Go0KUb"
      }
    },
    {
      "cell_type": "markdown",
      "source": [
        "**Joining DataFrames: We join the original DataFrame (df_selected) with the df_popular_users**\n",
        "\n",
        "**DataFrame based on the user_id_str column, which is common between them.**\n",
        "\n",
        "**This ensures we only get tweets from the popular users (those with more than 5000 followers).**\n"
      ],
      "metadata": {
        "id": "w3In0j2UtTr3"
      }
    },
    {
      "cell_type": "code",
      "source": [
        "# Joining the popular users' DataFrame with the original DataFrame\n",
        "df_popular_tweets = df_selected.join(df_popular_users, \"user_id_str\")\n",
        "\n",
        "# Show a few rows to confirm\n",
        "df_popular_tweets.show(5)\n"
      ],
      "metadata": {
        "colab": {
          "base_uri": "https://localhost:8080/"
        },
        "id": "rKZkjLrezgTD",
        "outputId": "96ff2d0a-6b27-47a5-e7f6-e2c128c56d29"
      },
      "execution_count": null,
      "outputs": [
        {
          "output_type": "stream",
          "name": "stdout",
          "text": [
            "+-----------+--------------------+--------------------+-------------+\n",
            "|user_id_str|user_followers_count|               text_|max_followers|\n",
            "+-----------+--------------------+--------------------+-------------+\n",
            "| 1210875679|               27156|@amazonIN payment...|        27156|\n",
            "| 1210875679|               27156|@AmazonHelp even ...|        27156|\n",
            "| 1210875679|               27156|@AmazonHelp super...|        27156|\n",
            "| 1210875679|               27156|@AmazonHelp How t...|        27156|\n",
            "|   16279527|               92724|Hi @AmazonHelp ha...|        92724|\n",
            "+-----------+--------------------+--------------------+-------------+\n",
            "only showing top 5 rows\n",
            "\n"
          ]
        }
      ]
    },
    {
      "cell_type": "code",
      "source": [
        "from pyspark.sql.functions import explode, split, lower\n",
        "\n",
        "# Tokenize the text column into words and explode to get each word on a separate row\n",
        "words_df = df_popular_tweets.withColumn(\"word\", explode(split(col(\"text_\"), r\"\\s+\")))\n",
        "\n",
        "# Remove any non-alphabetic words and lower case all the words\n",
        "words_df = words_df.filter(col(\"word\").rlike(\"^[a-zA-Z]+$\"))\n",
        "words_df = words_df.withColumn(\"word\", lower(col(\"word\")))\n",
        "words_df.show(5)\n",
        "\n"
      ],
      "metadata": {
        "colab": {
          "base_uri": "https://localhost:8080/"
        },
        "id": "X-KK0uG21LHL",
        "outputId": "fc9b90a4-c9b8-428a-8d4b-5d41a356a3e4"
      },
      "execution_count": null,
      "outputs": [
        {
          "output_type": "stream",
          "name": "stdout",
          "text": [
            "+-----------+--------------------+--------------------+-------------+-------+\n",
            "|user_id_str|user_followers_count|               text_|max_followers|   word|\n",
            "+-----------+--------------------+--------------------+-------------+-------+\n",
            "| 1210875679|               27156|@amazonIN payment...|        27156|payment|\n",
            "| 1210875679|               27156|@amazonIN payment...|        27156|     is|\n",
            "| 1210875679|               27156|@amazonIN payment...|        27156|    not|\n",
            "| 1210875679|               27156|@amazonIN payment...|        27156|getting|\n",
            "| 1210875679|               27156|@amazonIN payment...|        27156|  never|\n",
            "+-----------+--------------------+--------------------+-------------+-------+\n",
            "only showing top 5 rows\n",
            "\n"
          ]
        }
      ]
    },
    {
      "cell_type": "markdown",
      "source": [
        "## **Task 2: Get top 10 most popular words from the tweets posted by the popular users**"
      ],
      "metadata": {
        "id": "Hkl2l5o6uDjb"
      }
    },
    {
      "cell_type": "code",
      "source": [
        "# Count the frequency of each word\n",
        "word_counts = words_df.groupBy(\"word\").count()\n",
        "\n",
        "# Get the top 10 most popular words by frequency\n",
        "top_10_words = word_counts.orderBy(col(\"count\").desc()).limit(10)\n",
        "\n",
        "top_10_words.show()"
      ],
      "metadata": {
        "colab": {
          "base_uri": "https://localhost:8080/"
        },
        "id": "EnrnX3wW2e76",
        "outputId": "814966cf-2caf-4025-e596-0c5add148c01"
      },
      "execution_count": null,
      "outputs": [
        {
          "output_type": "stream",
          "name": "stdout",
          "text": [
            "+------+------+\n",
            "|  word| count|\n",
            "+------+------+\n",
            "|   the|120445|\n",
            "|    to|120124|\n",
            "|   you| 88429|\n",
            "|   for| 56783|\n",
            "|  your| 52434|\n",
            "|    us| 49105|\n",
            "|please| 46465|\n",
            "|    we| 45592|\n",
            "| sorry| 44550|\n",
            "|  this| 38347|\n",
            "+------+------+\n",
            "\n"
          ]
        }
      ]
    },
    {
      "cell_type": "code",
      "source": [],
      "metadata": {
        "id": "FC9salBV3n7L"
      },
      "execution_count": null,
      "outputs": []
    }
  ]
}