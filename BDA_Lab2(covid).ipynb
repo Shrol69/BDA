{
  "cells": [
    {
      "cell_type": "code",
      "execution_count": null,
      "metadata": {
        "id": "qfnyP4LwHvAB"
      },
      "outputs": [],
      "source": [
        "import numpy as np\n",
        "import pandas as pd\n",
        "from scipy import stats\n",
        "import statsmodels.api as sm\n",
        "from statsmodels.formula.api import ols\n",
        "from statsmodels.stats.weightstats import ztest\n",
        "from sklearn.preprocessing import LabelEncoder\n",
        "\n",
        "df=pd.read_csv('covid_data.csv')\n",
        "df.head()\n",
        "df.isnull().sum()\n",
        "df.info()\n",
        "# t-stat, p-value\n",
        "t_stat, p_value = stats.ttest_ind(df['Confirmed'], df['Deaths'])\n",
        "print(f\"T-test p-value: {p_value}\")\n",
        "# Z-test between Confirmed and Deaths columns\n",
        "z_stat, p_value = ztest(df['Confirmed'], df['Deaths'])\n",
        "print(f\"Z-test p-value: {p_value}\")\n",
        "# Label encoding for categorical data\n",
        "le = LabelEncoder()\n",
        "df['Country_encoded'] = le.fit_transform(df['Country/Region'])\n",
        "\n",
        "# Create contingency table\n",
        "contingency_table = pd.crosstab(df['Country_encoded'], df['Deaths'])\n",
        "\n",
        "# Perform chi-square test\n",
        "chi2_stat, p_value, dof, expected = stats.chi2_contingency(contingency_table)\n",
        "print(f\"Chi-square p-value: {p_value}\")\n",
        "\n",
        "# Perform ANOVA test\n",
        "anova_results = stats.f_oneway(df[df['WHO Region'] == 'Europe']['Confirmed'],\n",
        "                               df[df['WHO Region'] == 'Africa']['Confirmed'])\n",
        "print(f\"ANOVA p-value: {anova_results.pvalue}\")\n",
        "\n",
        "\n"
      ]
    }
  ],
  "metadata": {
    "colab": {
      "provenance": []
    },
    "kernelspec": {
      "display_name": "Python 3",
      "name": "python3"
    },
    "language_info": {
      "name": "python"
    }
  },
  "nbformat": 4,
  "nbformat_minor": 0
}
