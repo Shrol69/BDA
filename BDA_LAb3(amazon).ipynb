{
  "cells": [
    {
      "cell_type": "code",
      "execution_count": null,
      "metadata": {
        "colab": {
          "base_uri": "https://localhost:8080/",
          "height": 73
        },
        "id": "Ws2tx4Djqxaw",
        "outputId": "eba81296-770f-4a2b-d0d0-d1032db64246"
      },
      "outputs": [],
      "source": [
        "from pyspark.sql import SparkSession\n",
        "\n",
        "# Create Spark session\n",
        "spark = SparkSession.builder \\\n",
        "    .appName(\"BDA Lab 3\") \\\n",
        "    .getOrCreate()\n",
        "\n",
        "\n",
        "# Load the CSV file into a DataFrame\n",
        "df = spark.read.csv(\"Amazon_Responded_Oct05.csv\", header=True, inferSchema=True)\n",
        "\n",
        "df.printSchema()\n",
        "df.describe().show()\n",
        "df.show(5)\n",
        "df.count()   #no.of rows\n",
        "len(df.columns) #no. of columns\n",
        "# Extracting the relevant columns\n",
        "df_selected = df.select(\"user_id_str\", \"user_followers_count\", \"text_\")\n",
        "df_selected.show(5)\n",
        "\n",
        "from pyspark.sql.functions import col, max\n",
        "\n",
        "# Group by user_id_str and get the max number of followers for each user\n",
        "df_user_max_followers = df_selected.groupBy(\"user_id_str\").agg(\n",
        "    max(\"user_followers_count\").alias(\"max_followers\")\n",
        ")\n",
        "\n",
        "df_user_max_followers.show(5)\n",
        "\n",
        "# Filter out rows where 'user_followers_count' is not a valid number (non-numeric)\n",
        "df_clean = df_selected.filter(col(\"user_followers_count\").cast(\"string\").rlike(\"^[0-9]+$\"))\n",
        "\n",
        "\n",
        "df_clean.show(5)\n",
        "\n",
        "# Group by user_id_str and get the max number of followers for each user\n",
        "df_user_max_followers = df_clean.groupBy(\"user_id_str\").agg(\n",
        "    max(\"user_followers_count\").alias(\"max_followers\")\n",
        ")\n",
        "\n",
        "df_user_max_followers.show(5)\n",
        "\n",
        "# Count the number of tweets per user\n",
        "df_tweets_per_user = df_selected.groupBy(\"user_id_str\").count()\n",
        "\n",
        "# Show the first few rows of the result\n",
        "df_tweets_per_user.show(5)\n",
        "\n",
        "df_popular_users = df_user_max_followers.filter(col(\"max_followers\") > 5000)\n",
        "df_popular_users.show(5)\n",
        "\n",
        "# Joining the popular users' DataFrame with the original DataFrame\n",
        "df_popular_tweets = df_selected.join(df_popular_users, \"user_id_str\")\n",
        "\n",
        "# Show a few rows to confirm\n",
        "df_popular_tweets.show(5)\n",
        "\n",
        "from pyspark.sql.functions import explode, split, lower\n",
        "\n",
        "# Tokenize the text column into words and explode to get each word on a separate row\n",
        "words_df = df_popular_tweets.withColumn(\"word\", explode(split(col(\"text_\"), r\"\\s+\")))\n",
        "\n",
        "# Remove any non-alphabetic words and lower case all the words\n",
        "words_df = words_df.filter(col(\"word\").rlike(\"^[a-zA-Z]+$\"))\n",
        "words_df = words_df.withColumn(\"word\", lower(col(\"word\")))\n",
        "words_df.show(5)\n",
        "\n",
        "# Count the frequency of each word\n",
        "word_counts = words_df.groupBy(\"word\").count()\n",
        "\n",
        "# Get the top 10 most popular words by frequency\n",
        "top_10_words = word_counts.orderBy(col(\"count\").desc()).limit(10)\n",
        "\n",
        "top_10_words.show()\n"
      ]
    },
    {
      "cell_type": "code",
      "execution_count": null,
      "metadata": {
        "id": "FC9salBV3n7L"
      },
      "outputs": [],
      "source": []
    }
  ],
  "metadata": {
    "colab": {
      "provenance": []
    },
    "kernelspec": {
      "display_name": "Python 3",
      "name": "python3"
    },
    "language_info": {
      "name": "python"
    }
  },
  "nbformat": 4,
  "nbformat_minor": 0
}
