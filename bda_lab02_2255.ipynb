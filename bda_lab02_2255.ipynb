{
 "cells": [
  {
   "cell_type": "markdown",
   "id": "edf646b3",
   "metadata": {},
   "source": [
    "<h1><center>LAB-04</center></h1>"
   ]
  },
  {
   "cell_type": "markdown",
   "id": "5cc70238",
   "metadata": {},
   "source": [
    "## Name: Ayush Gykar\n",
    "## PRN No. : 20220802255\n",
    "## Batch : DS-2"
   ]
  },
  {
   "cell_type": "code",
   "execution_count": 7,
   "id": "ba57eaa9",
   "metadata": {},
   "outputs": [
    {
     "name": "stdout",
     "output_type": "stream",
     "text": [
      "Defaulting to user installation because normal site-packages is not writeable\n",
      "Requirement already satisfied: pandas in c:\\programdata\\anaconda3\\lib\\site-packages (2.0.3)\n",
      "Requirement already satisfied: numpy in c:\\programdata\\anaconda3\\lib\\site-packages (1.24.3)\n",
      "Requirement already satisfied: scipy in c:\\programdata\\anaconda3\\lib\\site-packages (1.11.1)\n",
      "Requirement already satisfied: python-dateutil>=2.8.2 in c:\\programdata\\anaconda3\\lib\\site-packages (from pandas) (2.8.2)\n",
      "Requirement already satisfied: pytz>=2020.1 in c:\\programdata\\anaconda3\\lib\\site-packages (from pandas) (2023.3.post1)\n",
      "Requirement already satisfied: tzdata>=2022.1 in c:\\programdata\\anaconda3\\lib\\site-packages (from pandas) (2023.3)\n",
      "Requirement already satisfied: six>=1.5 in c:\\programdata\\anaconda3\\lib\\site-packages (from python-dateutil>=2.8.2->pandas) (1.16.0)\n",
      "Note: you may need to restart the kernel to use updated packages.\n"
     ]
    },
    {
     "name": "stderr",
     "output_type": "stream",
     "text": [
      "DEPRECATION: Loading egg at c:\\programdata\\anaconda3\\lib\\site-packages\\vboxapi-1.0-py3.11.egg is deprecated. pip 23.3 will enforce this behaviour change. A possible replacement is to use pip for package installation..\n"
     ]
    }
   ],
   "source": [
    "pip install pandas numpy scipy"
   ]
  },
  {
   "cell_type": "code",
   "execution_count": 10,
   "id": "ed5625ce",
   "metadata": {},
   "outputs": [
    {
     "name": "stdout",
     "output_type": "stream",
     "text": [
      "   PassengerId  Survived  Pclass  \\\n",
      "0            1         0       3   \n",
      "1            2         1       1   \n",
      "2            3         1       3   \n",
      "3            4         1       1   \n",
      "4            5         0       3   \n",
      "\n",
      "                                                Name     Sex   Age  SibSp  \\\n",
      "0                            Braund, Mr. Owen Harris    male  22.0      1   \n",
      "1  Cumings, Mrs. John Bradley (Florence Briggs Th...  female  38.0      1   \n",
      "2                             Heikkinen, Miss. Laina  female  26.0      0   \n",
      "3       Futrelle, Mrs. Jacques Heath (Lily May Peel)  female  35.0      1   \n",
      "4                           Allen, Mr. William Henry    male  35.0      0   \n",
      "\n",
      "   Parch            Ticket     Fare Cabin Embarked  \n",
      "0      0         A/5 21171   7.2500   NaN        S  \n",
      "1      0          PC 17599  71.2833   C85        C  \n",
      "2      0  STON/O2. 3101282   7.9250   NaN        S  \n",
      "3      0            113803  53.1000  C123        S  \n",
      "4      0            373450   8.0500   NaN        S  \n"
     ]
    }
   ],
   "source": [
    "import pandas as pd\n",
    "import numpy as np\n",
    "from scipy import stats\n",
    "\n",
    "df = pd.read_csv('titanic_dataset.csv')\n",
    "print(df.head())"
   ]
  },
  {
   "cell_type": "markdown",
   "id": "9c7855ee",
   "metadata": {},
   "source": [
    "### Z-test"
   ]
  },
  {
   "cell_type": "code",
   "execution_count": 11,
   "id": "69b6dcff",
   "metadata": {},
   "outputs": [
    {
     "name": "stdout",
     "output_type": "stream",
     "text": [
      "Z-test statistic: -16.218833930670097\n",
      "Z-test p-value: 0.0\n",
      "Reject the null hypothesis: There is a significant difference in survival rates between males and females.\n"
     ]
    }
   ],
   "source": [
    "male_survival_rate = df[df['Sex'] == 'male']['Survived'].mean()\n",
    "female_survival_rate = df[df['Sex'] == 'female']['Survived'].mean()\n",
    "\n",
    "male_count = df[df['Sex'] == 'male']['Survived'].count()\n",
    "female_count = df[df['Sex'] == 'female']['Survived'].count()\n",
    "\n",
    "p1 = male_survival_rate\n",
    "p2 = female_survival_rate\n",
    "p = (male_survival_rate * male_count + female_survival_rate * female_count) / (male_count + female_count)\n",
    "\n",
    "z = (p1 - p2) / np.sqrt(p * (1 - p) * (1/male_count + 1/female_count))\n",
    "\n",
    "p_value_z = 2 * (1 - stats.norm.cdf(abs(z)))  # Two-tailed test\n",
    "\n",
    "print(f\"Z-test statistic: {z}\")\n",
    "print(f\"Z-test p-value: {p_value_z}\")\n",
    "\n",
    "if p_value_z < 0.05:\n",
    "    print(\"Reject the null hypothesis: There is a significant difference in survival rates between males and females.\")\n",
    "else:\n",
    "    print(\"Fail to reject the null hypothesis: No significant difference in survival rates between males and females.\")\n"
   ]
  },
  {
   "cell_type": "markdown",
   "id": "0f40014e",
   "metadata": {},
   "source": [
    "### Chi-Square test"
   ]
  },
  {
   "cell_type": "code",
   "execution_count": 12,
   "id": "42791dbd",
   "metadata": {},
   "outputs": [
    {
     "name": "stdout",
     "output_type": "stream",
     "text": [
      "Chi-Square statistic: 260.71702016732104\n",
      "Chi-Square p-value: 1.1973570627755645e-58\n",
      "Reject the null hypothesis: There is a significant association between sex and survival.\n"
     ]
    }
   ],
   "source": [
    "contingency_table = pd.crosstab(df['Sex'], df['Survived'])\n",
    "\n",
    "chi2_stat, p_value_chi2, dof, expected = stats.chi2_contingency(contingency_table)\n",
    "\n",
    "print(f\"Chi-Square statistic: {chi2_stat}\")\n",
    "print(f\"Chi-Square p-value: {p_value_chi2}\")\n",
    "\n",
    "if p_value_chi2 < 0.05:\n",
    "    print(\"Reject the null hypothesis: There is a significant association between sex and survival.\")\n",
    "else:\n",
    "    print(\"Fail to reject the null hypothesis: No significant association between sex and survival.\")"
   ]
  },
  {
   "cell_type": "markdown",
   "id": "ab653e8a",
   "metadata": {},
   "source": [
    "###  ANOVA Test"
   ]
  },
  {
   "cell_type": "code",
   "execution_count": 13,
   "id": "942f82dd",
   "metadata": {},
   "outputs": [
    {
     "name": "stdout",
     "output_type": "stream",
     "text": [
      "ANOVA F-statistic: 57.443484340676214\n",
      "ANOVA p-value: 7.487984171959904e-24\n",
      "Reject the null hypothesis: There is a significant difference in the average age across different Pclasses.\n"
     ]
    }
   ],
   "source": [
    "df_clean = df[['Age', 'Pclass']].dropna()\n",
    "\n",
    "grouped = [df_clean[df_clean['Pclass'] == pclass]['Age'] for pclass in df_clean['Pclass'].unique()]\n",
    "\n",
    "f_stat, p_value_anova = stats.f_oneway(*grouped)\n",
    "\n",
    "print(f\"ANOVA F-statistic: {f_stat}\")\n",
    "print(f\"ANOVA p-value: {p_value_anova}\")\n",
    "\n",
    "if p_value_anova < 0.05:\n",
    "    print(\"Reject the null hypothesis: There is a significant difference in the average age across different Pclasses.\")\n",
    "else:\n",
    "    print(\"Fail to reject the null hypothesis: No significant difference in the average age across Pclasses.\")"
   ]
  }
 ],
 "metadata": {
  "kernelspec": {
   "display_name": "Python 3 (ipykernel)",
   "language": "python",
   "name": "python3"
  },
  "language_info": {
   "codemirror_mode": {
    "name": "ipython",
    "version": 3
   },
   "file_extension": ".py",
   "mimetype": "text/x-python",
   "name": "python",
   "nbconvert_exporter": "python",
   "pygments_lexer": "ipython3",
   "version": "3.11.5"
  }
 },
 "nbformat": 4,
 "nbformat_minor": 5
}
