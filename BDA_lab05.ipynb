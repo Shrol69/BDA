{
 "cells": [
  {
   "cell_type": "code",
   "execution_count": null,
   "metadata": {
    "id": "XhdqDYWU9SSh"
   },
   "outputs": [],
   "source": [
    "from pyspark.sql import SparkSession\n",
    "spark = SparkSession.builder.appName(\"MyApp\").getOrCreate()\n"
   ]
  },
  {
   "cell_type": "markdown",
   "metadata": {
    "id": "4rF8XW6x-DLn"
   },
   "source": [
    "Reading Data using pyspark"
   ]
  },
  {
   "cell_type": "code",
   "execution_count": null,
   "metadata": {
    "colab": {
     "base_uri": "https://localhost:8080/"
    },
    "executionInfo": {
     "elapsed": 13279,
     "status": "ok",
     "timestamp": 1743655738721,
     "user": {
      "displayName": "anaconda python",
      "userId": "01341544374191849417"
     },
     "user_tz": -330
    },
    "id": "mtaKsU9D92m5",
    "outputId": "7cfaa388-3172-4bfe-aa4d-9174e80a2bba"
   },
   "outputs": [
    {
     "name": "stdout",
     "output_type": "stream",
     "text": [
      "+--------------------+------------------+--------------------+--------------------+--------------------+-------------------+---------+------------+----------+--------------------+-----------------+--------------+----------+-------------------+---------------+------------+----------------+---------------+-------+-------+-------------------+-----------+----------------+--------------+-----+-----+--------------+---------------+-------------+----------------+--------------------+-------+-------+-------+-------+-------+-------+-------+-------+\n",
      "|           permalink|              name|        homepage_url|       category_list|             market | funding_total_usd |   status|country_code|state_code|              region|             city|funding_rounds|founded_at|      founded_month|founded_quarter|founded_year|first_funding_at|last_funding_at|   seed|venture|equity_crowdfunding|undisclosed|convertible_note|debt_financing|angel|grant|private_equity|post_ipo_equity|post_ipo_debt|secondary_market|product_crowdfunding|round_A|round_B|round_C|round_D|round_E|round_F|round_G|round_H|\n",
      "+--------------------+------------------+--------------------+--------------------+--------------------+-------------------+---------+------------+----------+--------------------+-----------------+--------------+----------+-------------------+---------------+------------+----------------+---------------+-------+-------+-------------------+-----------+----------------+--------------+-----+-----+--------------+---------------+-------------+----------------+--------------------+-------+-------+-------+-------+-------+-------+-------+-------+\n",
      "|/organization/way...|          #waywire|http://www.waywir...||Entertainment|Po...|               News |         17,50,000 | acquired|         USA|        NY|       New York City|         New York|             1|2012-06-01|2012-06-01 00:00:00|        2012-Q2|        2012|      2012-06-30|     2012-06-30|1750000|      0|                  0|          0|               0|             0|    0|    0|             0|              0|            0|               0|                   0|      0|      0|      0|      0|      0|      0|      0|      0|\n",
      "|/organization/tv-...|&TV Communications|http://enjoyandtv...|             |Games||              Games |         40,00,000 |operating|         USA|        CA|         Los Angeles|      Los Angeles|             2|      NULL|               NULL|           NULL|        NULL|      2010-06-04|     2010-09-23|      0|4000000|                  0|          0|               0|             0|    0|    0|             0|              0|            0|               0|                   0|      0|      0|      0|      0|      0|      0|      0|      0|\n",
      "|/organization/roc...| 'Rock' Your Paper|http://www.rockyo...||Publishing|Educa...|         Publishing |            40,000 |operating|         EST|      NULL|             Tallinn|          Tallinn|             1|2012-10-26|2012-10-01 00:00:00|        2012-Q4|        2012|      2012-08-09|     2012-08-09|  40000|      0|                  0|          0|               0|             0|    0|    0|             0|              0|            0|               0|                   0|      0|      0|      0|      0|      0|      0|      0|      0|\n",
      "|/organization/in-...| (In)Touch Network|http://www.InTouc...||Electronics|Guid...|        Electronics |         15,00,000 |operating|         GBR|      NULL|              London|           London|             1|2011-04-01|2011-04-01 00:00:00|        2011-Q2|        2011|      2011-04-01|     2011-04-01|1500000|      0|                  0|          0|               0|             0|    0|    0|             0|              0|            0|               0|                   0|      0|      0|      0|      0|      0|      0|      0|      0|\n",
      "|/organization/r-r...|-R- Ranch and Mine|                NULL||Tourism|Entertai...|            Tourism |            60,000 |operating|         USA|        TX|              Dallas|       Fort Worth|             2|2014-01-01|2014-01-01 00:00:00|        2014-Q1|        2014|      2014-08-17|     2014-09-26|      0|      0|              60000|          0|               0|             0|    0|    0|             0|              0|            0|               0|                   0|      0|      0|      0|      0|      0|      0|      0|      0|\n",
      "|/organization/clu...|     .Club Domains|    http://nic.club/|          |Software||           Software |         70,00,000 |     NULL|         USA|        FL|      Ft. Lauderdale|     Oakland Park|             1|2011-10-10|2011-10-01 00:00:00|        2011-Q4|        2011|      2013-05-31|     2013-05-31|      0|7000000|                  0|          0|               0|             0|    0|    0|             0|              0|            0|               0|                   0|      0|7000000|      0|      0|      0|      0|      0|      0|\n",
      "|/organization/fox...|     .Fox Networks|http://www.dotfox...|       |Advertising||        Advertising |         49,12,393 |   closed|         ARG|      NULL|        Buenos Aires|     Buenos Aires|             1|      NULL|               NULL|           NULL|        NULL|      2007-01-16|     2007-01-16|      0|      0|                  0|    4912393|               0|             0|    0|    0|             0|              0|            0|               0|                   0|      0|      0|      0|      0|      0|      0|      0|      0|\n",
      "|/organization/0-6...|           0-6.com|  http://www.0-6.com|       |Curated Web||        Curated Web |         20,00,000 |operating|        NULL|      NULL|                NULL|             NULL|             1|2007-01-01|2007-01-01 00:00:00|        2007-Q1|        2007|      2008-03-19|     2008-03-19|      0|2000000|                  0|          0|               0|             0|    0|    0|             0|              0|            0|               0|                   0|2000000|      0|      0|      0|      0|      0|      0|      0|\n",
      "|/organization/004...|  004 Technologies|http://004gmbh.de...|          |Software||           Software |               -   |operating|         USA|        IL|Springfield, Illi...|        Champaign|             1|2010-01-01|2010-01-01 00:00:00|        2010-Q1|        2010|      2014-07-24|     2014-07-24|      0|      0|                  0|          0|               0|             0|    0|    0|             0|              0|            0|               0|                   0|      0|      0|      0|      0|      0|      0|      0|      0|\n",
      "|/organization/01g...|01Games Technology|http://www.01game...|             |Games||              Games |            41,250 |operating|         HKG|      NULL|           Hong Kong|        Hong Kong|             1|      NULL|               NULL|           NULL|        NULL|      2014-07-01|     2014-07-01|  41250|      0|                  0|          0|               0|             0|    0|    0|             0|              0|            0|               0|                   0|      0|      0|      0|      0|      0|      0|      0|      0|\n",
      "|/organization/1-2...|       1,2,3 Listo|http://www.123lis...|        |E-Commerce||         E-Commerce |            40,000 |operating|         CHL|      NULL|            Santiago|       Las Condes|             1|2012-01-01|2012-01-01 00:00:00|        2012-Q1|        2012|      2013-02-18|     2013-02-18|  40000|      0|                  0|          0|               0|             0|    0|    0|             0|              0|            0|               0|                   0|      0|      0|      0|      0|      0|      0|      0|      0|\n",
      "|/organization/1-4...|           1-4 All|                NULL||Entertainment|Ga...|           Software |               -   |operating|         USA|        NC|          NC - Other|Connellys Springs|             1|      NULL|               NULL|           NULL|        NULL|      2013-04-21|     2013-04-21|      0|      0|                  0|          0|               0|             0|    0|    0|             0|              0|            0|               0|                   0|      0|      0|      0|      0|      0|      0|      0|      0|\n",
      "|/organization/1-8...|     1-800-DENTIST|http://www.1800de...||Health and Welln...| Health and Welln...|               -   |operating|         USA|        CA|         Los Angeles|      Los Angeles|             1|1986-01-01|1986-01-01 00:00:00|        1986-Q1|        1986|      2010-08-19|     2010-08-19|      0|      0|                  0|          0|               0|             0|    0|    0|             0|              0|            0|               0|                   0|      0|      0|      0|      0|      0|      0|      0|      0|\n",
      "|/organization/1-8...|     1-800-DOCTORS|http://1800doctor...||Health and Welln...| Health and Welln...|         17,50,000 |operating|         USA|        NJ|              Newark|           Iselin|             1|1984-01-01|1984-01-01 00:00:00|        1984-Q1|        1984|      2011-03-02|     2011-03-02|      0|      0|                  0|          0|         1750000|             0|    0|    0|             0|              0|            0|               0|                   0|      0|      0|      0|      0|      0|      0|      0|      0|\n",
      "|/organization/1-6...|  1.618 Technology|                NULL|       |Real Estate||        Real Estate |               -   |operating|         USA|        FL|             Orlando|          Orlando|             1|2013-12-07|2013-12-01 00:00:00|        2013-Q4|        2013|      2014-01-22|     2014-01-22|      0|      0|                  0|          0|               0|             0|    0|    0|             0|              0|            0|               0|                   0|      0|      0|      0|      0|      0|      0|      0|      0|\n",
      "|/organization/10-...|   10 Minutes With|http://10minutesw...|         |Education||          Education |         44,00,000 |operating|         GBR|      NULL|              London|           London|             2|2013-01-01|2013-01-01 00:00:00|        2013-Q1|        2013|      2013-01-01|     2014-10-09| 400000|4000000|                  0|          0|               0|             0|    0|    0|             0|              0|            0|               0|                   0|4000000|      0|      0|      0|      0|      0|      0|      0|\n",
      "|/organization/10-...|       10-20 Media|http://www.10-20m...|        |E-Commerce||         E-Commerce |         20,50,000 |operating|         USA|        MD|           Baltimore|         Woodbine|             4|2001-01-01|2001-01-01 00:00:00|        2001-Q1|        2001|      2009-06-18|     2011-12-28|      0|      0|                  0|          0|               0|       2050000|    0|    0|             0|              0|            0|               0|                   0|      0|      0|      0|      0|      0|      0|      0|      0|\n",
      "|/organization/100...|        1000 Corks|http://1000corks.com|            |Search||             Search |            40,000 |operating|         USA|        OR|    Portland, Oregon|      Lake Oswego|             1|2008-01-01|2008-01-01 00:00:00|        2008-Q1|        2008|      2011-08-23|     2011-08-23|  40000|      0|                  0|          0|               0|             0|    0|    0|             0|              0|            0|               0|                   0|      0|      0|      0|      0|      0|      0|      0|      0|\n",
      "|/organization/100...|      1000 Markets|http://www.1000ma...||Marketplaces|Art...|       Marketplaces |          5,00,000 | acquired|        NULL|      NULL|                NULL|             NULL|             1|2009-01-01|2009-01-01 00:00:00|        2009-Q1|        2009|      2009-05-15|     2009-05-15| 500000|      0|                  0|          0|               0|             0|    0|    0|             0|              0|            0|               0|                   0|      0|      0|      0|      0|      0|      0|      0|      0|\n",
      "|/organization/100...| 1000jobboersen.de|http://www.1000jo...|       |Curated Web||        Curated Web |               -   |operating|         DEU|      NULL|              Berlin|           Berlin|             1|      NULL|               NULL|           NULL|        NULL|      2011-09-16|     2011-09-16|      0|      0|                  0|          0|               0|             0|    0|    0|             0|              0|            0|               0|                   0|      0|      0|      0|      0|      0|      0|      0|      0|\n",
      "+--------------------+------------------+--------------------+--------------------+--------------------+-------------------+---------+------------+----------+--------------------+-----------------+--------------+----------+-------------------+---------------+------------+----------------+---------------+-------+-------+-------------------+-----------+----------------+--------------+-----+-----+--------------+---------------+-------------+----------------+--------------------+-------+-------+-------+-------+-------+-------+-------+-------+\n",
      "only showing top 20 rows\n",
      "\n"
     ]
    }
   ],
   "source": [
    "df = spark.read.csv(\"investments.csv\", header=True, inferSchema=True)\n",
    "df.show()"
   ]
  },
  {
   "cell_type": "code",
   "execution_count": null,
   "metadata": {
    "colab": {
     "base_uri": "https://localhost:8080/"
    },
    "executionInfo": {
     "elapsed": 17,
     "status": "ok",
     "timestamp": 1743655783782,
     "user": {
      "displayName": "anaconda python",
      "userId": "01341544374191849417"
     },
     "user_tz": -330
    },
    "id": "UyVMR2Es-vyg",
    "outputId": "13d97edf-f238-4e55-a5e8-34875cf05484"
   },
   "outputs": [
    {
     "data": {
      "text/plain": [
       "['permalink',\n",
       " 'name',\n",
       " 'homepage_url',\n",
       " 'category_list',\n",
       " ' market ',\n",
       " ' funding_total_usd ',\n",
       " 'status',\n",
       " 'country_code',\n",
       " 'state_code',\n",
       " 'region',\n",
       " 'city',\n",
       " 'funding_rounds',\n",
       " 'founded_at',\n",
       " 'founded_month',\n",
       " 'founded_quarter',\n",
       " 'founded_year',\n",
       " 'first_funding_at',\n",
       " 'last_funding_at',\n",
       " 'seed',\n",
       " 'venture',\n",
       " 'equity_crowdfunding',\n",
       " 'undisclosed',\n",
       " 'convertible_note',\n",
       " 'debt_financing',\n",
       " 'angel',\n",
       " 'grant',\n",
       " 'private_equity',\n",
       " 'post_ipo_equity',\n",
       " 'post_ipo_debt',\n",
       " 'secondary_market',\n",
       " 'product_crowdfunding',\n",
       " 'round_A',\n",
       " 'round_B',\n",
       " 'round_C',\n",
       " 'round_D',\n",
       " 'round_E',\n",
       " 'round_F',\n",
       " 'round_G',\n",
       " 'round_H']"
      ]
     },
     "execution_count": 13,
     "metadata": {},
     "output_type": "execute_result"
    }
   ],
   "source": [
    "df.columns"
   ]
  },
  {
   "cell_type": "code",
   "execution_count": null,
   "metadata": {
    "colab": {
     "base_uri": "https://localhost:8080/"
    },
    "executionInfo": {
     "elapsed": 5,
     "status": "ok",
     "timestamp": 1743656446807,
     "user": {
      "displayName": "anaconda python",
      "userId": "01341544374191849417"
     },
     "user_tz": -330
    },
    "id": "AXlg11gg_I7p",
    "outputId": "9d01f0e3-e239-4361-fef4-37876a9cf640"
   },
   "outputs": [
    {
     "name": "stdout",
     "output_type": "stream",
     "text": [
      "root\n",
      " |-- permalink: string (nullable = true)\n",
      " |-- name: string (nullable = true)\n",
      " |-- homepage_url: string (nullable = true)\n",
      " |-- category_list: string (nullable = true)\n",
      " |--  market : string (nullable = true)\n",
      " |--  funding_total_usd : string (nullable = true)\n",
      " |-- status: string (nullable = true)\n",
      " |-- country_code: string (nullable = true)\n",
      " |-- state_code: string (nullable = true)\n",
      " |-- region: string (nullable = true)\n",
      " |-- city: string (nullable = true)\n",
      " |-- funding_rounds: integer (nullable = true)\n",
      " |-- founded_at: date (nullable = true)\n",
      " |-- founded_month: timestamp (nullable = true)\n",
      " |-- founded_quarter: string (nullable = true)\n",
      " |-- founded_year: integer (nullable = true)\n",
      " |-- first_funding_at: date (nullable = true)\n",
      " |-- last_funding_at: date (nullable = true)\n",
      " |-- seed: integer (nullable = true)\n",
      " |-- venture: long (nullable = true)\n",
      " |-- equity_crowdfunding: integer (nullable = true)\n",
      " |-- undisclosed: integer (nullable = true)\n",
      " |-- convertible_note: integer (nullable = true)\n",
      " |-- debt_financing: long (nullable = true)\n",
      " |-- angel: integer (nullable = true)\n",
      " |-- grant: integer (nullable = true)\n",
      " |-- private_equity: long (nullable = true)\n",
      " |-- post_ipo_equity: long (nullable = true)\n",
      " |-- post_ipo_debt: long (nullable = true)\n",
      " |-- secondary_market: integer (nullable = true)\n",
      " |-- product_crowdfunding: integer (nullable = true)\n",
      " |-- round_A: integer (nullable = true)\n",
      " |-- round_B: integer (nullable = true)\n",
      " |-- round_C: integer (nullable = true)\n",
      " |-- round_D: integer (nullable = true)\n",
      " |-- round_E: integer (nullable = true)\n",
      " |-- round_F: integer (nullable = true)\n",
      " |-- round_G: integer (nullable = true)\n",
      " |-- round_H: integer (nullable = true)\n",
      "\n"
     ]
    }
   ],
   "source": [
    "df.printSchema()"
   ]
  },
  {
   "cell_type": "markdown",
   "metadata": {
    "id": "cyWnZaMMBfPg"
   },
   "source": [
    "**Create temp table**"
   ]
  },
  {
   "cell_type": "code",
   "execution_count": null,
   "metadata": {
    "id": "FUBl4cUf_Wx4"
   },
   "outputs": [],
   "source": [
    "df.createOrReplaceTempView('investment')"
   ]
  },
  {
   "cell_type": "code",
   "execution_count": null,
   "metadata": {
    "colab": {
     "base_uri": "https://localhost:8080/"
    },
    "executionInfo": {
     "elapsed": 668,
     "status": "ok",
     "timestamp": 1743656444438,
     "user": {
      "displayName": "anaconda python",
      "userId": "01341544374191849417"
     },
     "user_tz": -330
    },
    "id": "W0y98bCJBc2J",
    "outputId": "ce8e95fd-db5c-4008-b588-f1a31ad24ba0"
   },
   "outputs": [
    {
     "name": "stdout",
     "output_type": "stream",
     "text": [
      "+--------------------+------------------+--------------------+--------------------+-------------+-------------------+---------+------------+----------+--------------------+------------+--------------+----------+-------------------+---------------+------------+----------------+---------------+-------+-------+-------------------+-----------+----------------+--------------+-----+-----+--------------+---------------+-------------+----------------+--------------------+-------+-------+-------+-------+-------+-------+-------+-------+\n",
      "|           permalink|              name|        homepage_url|       category_list|      market | funding_total_usd |   status|country_code|state_code|              region|        city|funding_rounds|founded_at|      founded_month|founded_quarter|founded_year|first_funding_at|last_funding_at|   seed|venture|equity_crowdfunding|undisclosed|convertible_note|debt_financing|angel|grant|private_equity|post_ipo_equity|post_ipo_debt|secondary_market|product_crowdfunding|round_A|round_B|round_C|round_D|round_E|round_F|round_G|round_H|\n",
      "+--------------------+------------------+--------------------+--------------------+-------------+-------------------+---------+------------+----------+--------------------+------------+--------------+----------+-------------------+---------------+------------+----------------+---------------+-------+-------+-------------------+-----------+----------------+--------------+-----+-----+--------------+---------------+-------------+----------------+--------------------+-------+-------+-------+-------+-------+-------+-------+-------+\n",
      "|/organization/way...|          #waywire|http://www.waywir...||Entertainment|Po...|        News |         17,50,000 | acquired|         USA|        NY|       New York City|    New York|             1|2012-06-01|2012-06-01 00:00:00|        2012-Q2|        2012|      2012-06-30|     2012-06-30|1750000|      0|                  0|          0|               0|             0|    0|    0|             0|              0|            0|               0|                   0|      0|      0|      0|      0|      0|      0|      0|      0|\n",
      "|/organization/tv-...|&TV Communications|http://enjoyandtv...|             |Games||       Games |         40,00,000 |operating|         USA|        CA|         Los Angeles| Los Angeles|             2|      NULL|               NULL|           NULL|        NULL|      2010-06-04|     2010-09-23|      0|4000000|                  0|          0|               0|             0|    0|    0|             0|              0|            0|               0|                   0|      0|      0|      0|      0|      0|      0|      0|      0|\n",
      "|/organization/roc...| 'Rock' Your Paper|http://www.rockyo...||Publishing|Educa...|  Publishing |            40,000 |operating|         EST|      NULL|             Tallinn|     Tallinn|             1|2012-10-26|2012-10-01 00:00:00|        2012-Q4|        2012|      2012-08-09|     2012-08-09|  40000|      0|                  0|          0|               0|             0|    0|    0|             0|              0|            0|               0|                   0|      0|      0|      0|      0|      0|      0|      0|      0|\n",
      "|/organization/in-...| (In)Touch Network|http://www.InTouc...||Electronics|Guid...| Electronics |         15,00,000 |operating|         GBR|      NULL|              London|      London|             1|2011-04-01|2011-04-01 00:00:00|        2011-Q2|        2011|      2011-04-01|     2011-04-01|1500000|      0|                  0|          0|               0|             0|    0|    0|             0|              0|            0|               0|                   0|      0|      0|      0|      0|      0|      0|      0|      0|\n",
      "|/organization/r-r...|-R- Ranch and Mine|                NULL||Tourism|Entertai...|     Tourism |            60,000 |operating|         USA|        TX|              Dallas|  Fort Worth|             2|2014-01-01|2014-01-01 00:00:00|        2014-Q1|        2014|      2014-08-17|     2014-09-26|      0|      0|              60000|          0|               0|             0|    0|    0|             0|              0|            0|               0|                   0|      0|      0|      0|      0|      0|      0|      0|      0|\n",
      "|/organization/clu...|     .Club Domains|    http://nic.club/|          |Software||    Software |         70,00,000 |     NULL|         USA|        FL|      Ft. Lauderdale|Oakland Park|             1|2011-10-10|2011-10-01 00:00:00|        2011-Q4|        2011|      2013-05-31|     2013-05-31|      0|7000000|                  0|          0|               0|             0|    0|    0|             0|              0|            0|               0|                   0|      0|7000000|      0|      0|      0|      0|      0|      0|\n",
      "|/organization/fox...|     .Fox Networks|http://www.dotfox...|       |Advertising|| Advertising |         49,12,393 |   closed|         ARG|      NULL|        Buenos Aires|Buenos Aires|             1|      NULL|               NULL|           NULL|        NULL|      2007-01-16|     2007-01-16|      0|      0|                  0|    4912393|               0|             0|    0|    0|             0|              0|            0|               0|                   0|      0|      0|      0|      0|      0|      0|      0|      0|\n",
      "|/organization/0-6...|           0-6.com|  http://www.0-6.com|       |Curated Web|| Curated Web |         20,00,000 |operating|        NULL|      NULL|                NULL|        NULL|             1|2007-01-01|2007-01-01 00:00:00|        2007-Q1|        2007|      2008-03-19|     2008-03-19|      0|2000000|                  0|          0|               0|             0|    0|    0|             0|              0|            0|               0|                   0|2000000|      0|      0|      0|      0|      0|      0|      0|\n",
      "|/organization/004...|  004 Technologies|http://004gmbh.de...|          |Software||    Software |               -   |operating|         USA|        IL|Springfield, Illi...|   Champaign|             1|2010-01-01|2010-01-01 00:00:00|        2010-Q1|        2010|      2014-07-24|     2014-07-24|      0|      0|                  0|          0|               0|             0|    0|    0|             0|              0|            0|               0|                   0|      0|      0|      0|      0|      0|      0|      0|      0|\n",
      "|/organization/01g...|01Games Technology|http://www.01game...|             |Games||       Games |            41,250 |operating|         HKG|      NULL|           Hong Kong|   Hong Kong|             1|      NULL|               NULL|           NULL|        NULL|      2014-07-01|     2014-07-01|  41250|      0|                  0|          0|               0|             0|    0|    0|             0|              0|            0|               0|                   0|      0|      0|      0|      0|      0|      0|      0|      0|\n",
      "+--------------------+------------------+--------------------+--------------------+-------------+-------------------+---------+------------+----------+--------------------+------------+--------------+----------+-------------------+---------------+------------+----------------+---------------+-------+-------+-------------------+-----------+----------------+--------------+-----+-----+--------------+---------------+-------------+----------------+--------------------+-------+-------+-------+-------+-------+-------+-------+-------+\n",
      "\n"
     ]
    }
   ],
   "source": [
    "spark.sql(\"select * from investment limit 10\").show()"
   ]
  },
  {
   "cell_type": "code",
   "execution_count": null,
   "metadata": {
    "colab": {
     "base_uri": "https://localhost:8080/"
    },
    "executionInfo": {
     "elapsed": 824,
     "status": "ok",
     "timestamp": 1743656614374,
     "user": {
      "displayName": "anaconda python",
      "userId": "01341544374191849417"
     },
     "user_tz": -330
    },
    "id": "MP46JkCqBdAQ",
    "outputId": "7e3ddd5e-6549-4a7f-f7e5-87bfee890fa7"
   },
   "outputs": [
    {
     "name": "stdout",
     "output_type": "stream",
     "text": [
      "+--------------------+------------------+--------------------+--------------------+--------------------+-------------------+---------+------------+----------+--------------------+-----------------+--------------+----------+-------------------+---------------+------------+----------------+---------------+-------+--------+-------------------+-----------+----------------+--------------+-----+-----+--------------+---------------+-------------+----------------+--------------------+-------+-------+-------+-------+-------+-------+-------+-------+\n",
      "|           permalink|              name|        homepage_url|       category_list|             market | funding_total_usd |   status|country_code|state_code|              region|             city|funding_rounds|founded_at|      founded_month|founded_quarter|founded_year|first_funding_at|last_funding_at|   seed| venture|equity_crowdfunding|undisclosed|convertible_note|debt_financing|angel|grant|private_equity|post_ipo_equity|post_ipo_debt|secondary_market|product_crowdfunding|round_A|round_B|round_C|round_D|round_E|round_F|round_G|round_H|\n",
      "+--------------------+------------------+--------------------+--------------------+--------------------+-------------------+---------+------------+----------+--------------------+-----------------+--------------+----------+-------------------+---------------+------------+----------------+---------------+-------+--------+-------------------+-----------+----------------+--------------+-----+-----+--------------+---------------+-------------+----------------+--------------------+-------+-------+-------+-------+-------+-------+-------+-------+\n",
      "|/organization/way...|          #waywire|http://www.waywir...||Entertainment|Po...|               News |         17,50,000 | acquired|         USA|        NY|       New York City|         New York|             1|2012-06-01|2012-06-01 00:00:00|        2012-Q2|        2012|      2012-06-30|     2012-06-30|1750000|       0|                  0|          0|               0|             0|    0|    0|             0|              0|            0|               0|                   0|      0|      0|      0|      0|      0|      0|      0|      0|\n",
      "|/organization/tv-...|&TV Communications|http://enjoyandtv...|             |Games||              Games |         40,00,000 |operating|         USA|        CA|         Los Angeles|      Los Angeles|             2|      NULL|               NULL|           NULL|        NULL|      2010-06-04|     2010-09-23|      0| 4000000|                  0|          0|               0|             0|    0|    0|             0|              0|            0|               0|                   0|      0|      0|      0|      0|      0|      0|      0|      0|\n",
      "|/organization/r-r...|-R- Ranch and Mine|                NULL||Tourism|Entertai...|            Tourism |            60,000 |operating|         USA|        TX|              Dallas|       Fort Worth|             2|2014-01-01|2014-01-01 00:00:00|        2014-Q1|        2014|      2014-08-17|     2014-09-26|      0|       0|              60000|          0|               0|             0|    0|    0|             0|              0|            0|               0|                   0|      0|      0|      0|      0|      0|      0|      0|      0|\n",
      "|/organization/clu...|     .Club Domains|    http://nic.club/|          |Software||           Software |         70,00,000 |     NULL|         USA|        FL|      Ft. Lauderdale|     Oakland Park|             1|2011-10-10|2011-10-01 00:00:00|        2011-Q4|        2011|      2013-05-31|     2013-05-31|      0| 7000000|                  0|          0|               0|             0|    0|    0|             0|              0|            0|               0|                   0|      0|7000000|      0|      0|      0|      0|      0|      0|\n",
      "|/organization/004...|  004 Technologies|http://004gmbh.de...|          |Software||           Software |               -   |operating|         USA|        IL|Springfield, Illi...|        Champaign|             1|2010-01-01|2010-01-01 00:00:00|        2010-Q1|        2010|      2014-07-24|     2014-07-24|      0|       0|                  0|          0|               0|             0|    0|    0|             0|              0|            0|               0|                   0|      0|      0|      0|      0|      0|      0|      0|      0|\n",
      "|/organization/1-4...|           1-4 All|                NULL||Entertainment|Ga...|           Software |               -   |operating|         USA|        NC|          NC - Other|Connellys Springs|             1|      NULL|               NULL|           NULL|        NULL|      2013-04-21|     2013-04-21|      0|       0|                  0|          0|               0|             0|    0|    0|             0|              0|            0|               0|                   0|      0|      0|      0|      0|      0|      0|      0|      0|\n",
      "|/organization/1-8...|     1-800-DENTIST|http://www.1800de...||Health and Welln...| Health and Welln...|               -   |operating|         USA|        CA|         Los Angeles|      Los Angeles|             1|1986-01-01|1986-01-01 00:00:00|        1986-Q1|        1986|      2010-08-19|     2010-08-19|      0|       0|                  0|          0|               0|             0|    0|    0|             0|              0|            0|               0|                   0|      0|      0|      0|      0|      0|      0|      0|      0|\n",
      "|/organization/1-8...|     1-800-DOCTORS|http://1800doctor...||Health and Welln...| Health and Welln...|         17,50,000 |operating|         USA|        NJ|              Newark|           Iselin|             1|1984-01-01|1984-01-01 00:00:00|        1984-Q1|        1984|      2011-03-02|     2011-03-02|      0|       0|                  0|          0|         1750000|             0|    0|    0|             0|              0|            0|               0|                   0|      0|      0|      0|      0|      0|      0|      0|      0|\n",
      "|/organization/1-6...|  1.618 Technology|                NULL|       |Real Estate||        Real Estate |               -   |operating|         USA|        FL|             Orlando|          Orlando|             1|2013-12-07|2013-12-01 00:00:00|        2013-Q4|        2013|      2014-01-22|     2014-01-22|      0|       0|                  0|          0|               0|             0|    0|    0|             0|              0|            0|               0|                   0|      0|      0|      0|      0|      0|      0|      0|      0|\n",
      "|/organization/10-...|       10-20 Media|http://www.10-20m...|        |E-Commerce||         E-Commerce |         20,50,000 |operating|         USA|        MD|           Baltimore|         Woodbine|             4|2001-01-01|2001-01-01 00:00:00|        2001-Q1|        2001|      2009-06-18|     2011-12-28|      0|       0|                  0|          0|               0|       2050000|    0|    0|             0|              0|            0|               0|                   0|      0|      0|      0|      0|      0|      0|      0|      0|\n",
      "|/organization/100...|        1000 Corks|http://1000corks.com|            |Search||             Search |            40,000 |operating|         USA|        OR|    Portland, Oregon|      Lake Oswego|             1|2008-01-01|2008-01-01 00:00:00|        2008-Q1|        2008|      2011-08-23|     2011-08-23|  40000|       0|                  0|          0|               0|             0|    0|    0|             0|              0|            0|               0|                   0|      0|      0|      0|      0|      0|      0|      0|      0|\n",
      "|/organization/100...|      1000memories|http://1000memori...|       |Curated Web||        Curated Web |         25,35,000 | acquired|         USA|        CA|         SF Bay Area|    San Francisco|             2|2010-07-01|2010-07-01 00:00:00|        2010-Q3|        2010|      2010-01-01|     2011-02-16|  15000| 2520000|                  0|          0|               0|             0|    0|    0|             0|              0|            0|               0|                   0|2520000|      0|      0|      0|      0|      0|      0|      0|\n",
      "|/organization/100...|   1000museums.com|http://www.1000mu...|       |Curated Web||        Curated Web |         49,62,651 |operating|         USA|        WA|             Seattle|         Bellevue|             6|2008-01-01|2008-01-01 00:00:00|        2008-Q1|        2008|      2009-10-14|     2014-09-19|      0| 3814772|                  0|          0|               0|       1147879|    0|    0|             0|              0|            0|               0|                   0|      0|      0|      0|      0|      0|      0|      0|      0|\n",
      "|/organization/100...|         100health|http://www.redoxe...||Health Care Info...| Health Care Info...|          4,20,000 |operating|         USA|        WI|             Madison|          Madison|             1|2014-07-04|2014-07-01 00:00:00|        2014-Q3|        2014|      2014-11-26|     2014-11-26| 420000|       0|                  0|          0|               0|             0|    0|    0|             0|              0|            0|               0|                   0|      0|      0|      0|      0|      0|      0|      0|      0|\n",
      "|/organization/100...|           100Plus|http://www.100plu...|         |Analytics||          Analytics |         12,50,000 | acquired|         USA|        CA|         SF Bay Area|    San Francisco|             2|2011-09-16|2011-09-01 00:00:00|        2011-Q3|        2011|      2011-11-02|     2011-11-30| 750000|  500000|                  0|          0|               0|             0|    0|    0|             0|              0|            0|               0|                   0|      0|      0|      0|      0|      0|      0|      0|      0|\n",
      "|/organization/101...|          1010data|http://www.1010da...|          |Software||           Software |       3,50,00,000 |operating|         USA|        NY|       New York City|         New York|             1|2000-01-01|2000-01-01 00:00:00|        2000-Q1|        2000|      2010-03-08|     2010-03-08|      0|35000000|                  0|          0|               0|             0|    0|    0|             0|              0|            0|               0|                   0|      0|      0|      0|      0|      0|      0|      0|      0|\n",
      "|/organization/10b...|      10BestThings|http://10bestthin...|       |Curated Web||        Curated Web |            50,000 |   closed|         USA|        OH|           Cleveland|        Cleveland|             1|2009-04-01|2009-04-01 00:00:00|        2009-Q2|        2009|      2009-04-01|     2009-04-01|  50000|       0|                  0|          0|               0|             0|    0|    0|             0|              0|            0|               0|                   0|      0|      0|      0|      0|      0|      0|      0|      0|\n",
      "| /organization/10six|             10Six|http://10sixenerg...||Electronics|Batt...|        Electronics |               -   |operating|         USA|        NY|       New York City|         New York|             1|      NULL|               NULL|           NULL|        NULL|      2014-02-01|     2014-02-01|      0|       0|                  0|          0|               0|             0|    0|    0|             0|              0|            0|               0|                   0|      0|      0|      0|      0|      0|      0|      0|      0|\n",
      "|/organization/10x...|  10X Technologies|http://10xtechnol...|     |Biotechnology||      Biotechnology |         30,00,000 |operating|         USA|        CA|         SF Bay Area|          Oakland|             1|2012-01-01|2012-01-01 00:00:00|        2012-Q1|        2012|      2012-11-07|     2012-11-07|      0|       0|                  0|          0|               0|       3000000|    0|    0|             0|              0|            0|               0|                   0|      0|      0|      0|      0|      0|      0|      0|      0|\n",
      "|/organization/10x...|        10X10 Room|http://10x10room.com|          |Software||           Software |            77,500 |operating|         USA|        MA|              Boston|        Lexington|             1|2010-01-01|2010-01-01 00:00:00|        2010-Q1|        2010|      2011-10-12|     2011-10-12|      0|       0|                  0|          0|               0|         77500|    0|    0|             0|              0|            0|               0|                   0|      0|      0|      0|      0|      0|      0|      0|      0|\n",
      "+--------------------+------------------+--------------------+--------------------+--------------------+-------------------+---------+------------+----------+--------------------+-----------------+--------------+----------+-------------------+---------------+------------+----------------+---------------+-------+--------+-------------------+-----------+----------------+--------------+-----+-----+--------------+---------------+-------------+----------------+--------------------+-------+-------+-------+-------+-------+-------+-------+-------+\n",
      "only showing top 20 rows\n",
      "\n"
     ]
    }
   ],
   "source": [
    "spark.sql(\"select * from investment where country_code == 'USA'\").show()"
   ]
  }
 ],
 "metadata": {
  "colab": {
   "authorship_tag": "ABX9TyM9p5uZe+Cn8Ac30FWDK4aA",
   "provenance": []
  },
  "kernelspec": {
   "display_name": "Python 3",
   "name": "python3"
  },
  "language_info": {
   "name": "python"
  }
 },
 "nbformat": 4,
 "nbformat_minor": 0
}
