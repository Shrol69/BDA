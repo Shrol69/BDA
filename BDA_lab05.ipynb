{
 "cells": [
  {
   "cell_type": "code",
   "execution_count": null,
   "metadata": {
    "id": "XhdqDYWU9SSh"
   },
   "outputs": [],
   "source": [
    "from pyspark.sql import SparkSession\n",
    "spark = SparkSession.builder.appName(\"MyApp\").getOrCreate()\n",
    "df = spark.read.csv(\"investments.csv\", header=True, inferSchema=True)\n",
    "df.show()\n",
    "df.columns\n",
    "df.printSchema()\n",
    "df.createOrReplaceTempView('investment')\n",
    "spark.sql(\"select * from investment limit 10\").show()\n",
    "spark.sql(\"select * from investment where country_code == 'USA'\").show()"
   ]
  }
 ],
 "metadata": {
  "colab": {
   "authorship_tag": "ABX9TyM9p5uZe+Cn8Ac30FWDK4aA",
   "provenance": []
  },
  "kernelspec": {
   "display_name": "Python 3",
   "name": "python3"
  },
  "language_info": {
   "name": "python"
  }
 },
 "nbformat": 4,
 "nbformat_minor": 0
}
